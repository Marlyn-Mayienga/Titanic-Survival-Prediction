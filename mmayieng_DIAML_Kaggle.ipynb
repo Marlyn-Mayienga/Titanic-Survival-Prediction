{
 "cells": [
  {
   "cell_type": "code",
   "execution_count": 1,
   "metadata": {
    "_kg_hide-input": false,
    "execution": {
     "iopub.execute_input": "2024-12-06T13:26:59.016662Z",
     "iopub.status.busy": "2024-12-06T13:26:59.016146Z",
     "iopub.status.idle": "2024-12-06T13:26:59.029704Z",
     "shell.execute_reply": "2024-12-06T13:26:59.028400Z",
     "shell.execute_reply.started": "2024-12-06T13:26:59.016611Z"
    },
    "trusted": true
   },
   "outputs": [],
   "source": [
    "# This Python 3 environment comes with many helpful analytics libraries installed\n",
    "# It is defined by the kaggle/python docker image: https://github.com/kaggle/docker-python\n",
    "# For example, here's several helpful packages to load in \n",
    "\n",
    "# Import necessary libraries\n",
    "import numpy as np\n",
    "import pandas as pd\n",
    "import matplotlib.pyplot as plt\n",
    "import seaborn as sns\n",
    "\n",
    "# Machine Learning Libraries\n",
    "import sklearn\n",
    "from sklearn.model_selection import train_test_split, RandomizedSearchCV, RepeatedStratifiedKFold\n",
    "from sklearn.preprocessing import StandardScaler, OneHotEncoder, RobustScaler\n",
    "from sklearn.experimental import enable_iterative_imputer\n",
    "from sklearn.impute import SimpleImputer, IterativeImputer\n",
    "from sklearn.compose import ColumnTransformer\n",
    "from sklearn.pipeline import Pipeline\n",
    "from sklearn.metrics import accuracy_score, classification_report\n",
    "\n",
    "# Ensemble and Tree-based Models\n",
    "from sklearn.ensemble import RandomForestClassifier, GradientBoostingClassifier, StackingClassifier\n",
    "from sklearn.linear_model import LogisticRegression\n",
    "from sklearn.svm import SVC\n",
    "\n",
    "# Input data files are available in the \"../input/\" directory.\n",
    "# For example, running this (by clicking run or pressing Shift+Enter) will list all files under the input directory\n",
    "\n",
    "import os\n",
    "for dirname, _, filenames in os.walk('/kaggle/input'):\n",
    "    for filename in filenames:\n",
    "        print(os.path.join(dirname, filename))\n",
    "\n",
    "# Any results you write to the current directory are saved as output."
   ]
  },
  {
   "cell_type": "code",
   "execution_count": 2,
   "metadata": {
    "execution": {
     "iopub.execute_input": "2024-12-06T13:26:59.031703Z",
     "iopub.status.busy": "2024-12-06T13:26:59.031315Z",
     "iopub.status.idle": "2024-12-06T13:26:59.047059Z",
     "shell.execute_reply": "2024-12-06T13:26:59.045917Z",
     "shell.execute_reply.started": "2024-12-06T13:26:59.031669Z"
    },
    "trusted": true
   },
   "outputs": [],
   "source": [
    "# XGBoost and LightGBM (if installed)\n",
    "XGBOOST_AVAILABLE = False\n",
    "try:\n",
    "    from xgboost import XGBClassifier\n",
    "    XGBOOST_AVAILABLE = True\n",
    "except ImportError:\n",
    "    pass\n",
    "\n",
    "# Define create_ensemble_model function here\n",
    "def create_ensemble_model():\n",
    "    base_models = [\n",
    "        ('rf', RandomForestClassifier(random_state=42)),\n",
    "        ('gb', GradientBoostingClassifier(random_state=42)),\n",
    "        ('xgb', XGBClassifier(random_state=42)) if XGBOOST_AVAILABLE else ('svm', SVC(probability=True, random_state=42))\n",
    "    ]\n",
    "    \n",
    "    final_estimator = LogisticRegression(random_state=42)\n",
    "    \n",
    "    model = StackingClassifier(\n",
    "        estimators=base_models,\n",
    "        final_estimator=final_estimator,\n",
    "        cv=5,\n",
    "        stack_method='predict_proba'\n",
    "    )\n",
    "    \n",
    "    return model"
   ]
  },
  {
   "cell_type": "markdown",
   "metadata": {},
   "source": [
    "Data Exploration"
   ]
  },
  {
   "cell_type": "markdown",
   "metadata": {},
   "source": [
    "Load the train data"
   ]
  },
  {
   "cell_type": "code",
   "execution_count": null,
   "metadata": {
    "execution": {
     "iopub.execute_input": "2024-12-06T13:26:59.049501Z",
     "iopub.status.busy": "2024-12-06T13:26:59.049118Z",
     "iopub.status.idle": "2024-12-06T13:26:59.084920Z",
     "shell.execute_reply": "2024-12-06T13:26:59.083500Z",
     "shell.execute_reply.started": "2024-12-06T13:26:59.049423Z"
    },
    "trusted": true
   },
   "outputs": [
    {
     "data": {
      "text/html": [
       "<div>\n",
       "<style scoped>\n",
       "    .dataframe tbody tr th:only-of-type {\n",
       "        vertical-align: middle;\n",
       "    }\n",
       "\n",
       "    .dataframe tbody tr th {\n",
       "        vertical-align: top;\n",
       "    }\n",
       "\n",
       "    .dataframe thead th {\n",
       "        text-align: right;\n",
       "    }\n",
       "</style>\n",
       "<table border=\"1\" class=\"dataframe\">\n",
       "  <thead>\n",
       "    <tr style=\"text-align: right;\">\n",
       "      <th></th>\n",
       "      <th>PassengerId</th>\n",
       "      <th>Survived</th>\n",
       "      <th>Pclass</th>\n",
       "      <th>Name</th>\n",
       "      <th>Sex</th>\n",
       "      <th>Age</th>\n",
       "      <th>SibSp</th>\n",
       "      <th>Parch</th>\n",
       "      <th>Ticket</th>\n",
       "      <th>Fare</th>\n",
       "      <th>Cabin</th>\n",
       "      <th>Embarked</th>\n",
       "    </tr>\n",
       "  </thead>\n",
       "  <tbody>\n",
       "    <tr>\n",
       "      <th>0</th>\n",
       "      <td>1</td>\n",
       "      <td>0</td>\n",
       "      <td>3</td>\n",
       "      <td>Braund, Mr. Owen Harris</td>\n",
       "      <td>male</td>\n",
       "      <td>22.0</td>\n",
       "      <td>1</td>\n",
       "      <td>0</td>\n",
       "      <td>A/5 21171</td>\n",
       "      <td>7.2500</td>\n",
       "      <td>NaN</td>\n",
       "      <td>S</td>\n",
       "    </tr>\n",
       "    <tr>\n",
       "      <th>1</th>\n",
       "      <td>2</td>\n",
       "      <td>1</td>\n",
       "      <td>1</td>\n",
       "      <td>Cumings, Mrs. John Bradley (Florence Briggs Th...</td>\n",
       "      <td>female</td>\n",
       "      <td>38.0</td>\n",
       "      <td>1</td>\n",
       "      <td>0</td>\n",
       "      <td>PC 17599</td>\n",
       "      <td>71.2833</td>\n",
       "      <td>C85</td>\n",
       "      <td>C</td>\n",
       "    </tr>\n",
       "    <tr>\n",
       "      <th>2</th>\n",
       "      <td>3</td>\n",
       "      <td>1</td>\n",
       "      <td>3</td>\n",
       "      <td>Heikkinen, Miss. Laina</td>\n",
       "      <td>female</td>\n",
       "      <td>26.0</td>\n",
       "      <td>0</td>\n",
       "      <td>0</td>\n",
       "      <td>STON/O2. 3101282</td>\n",
       "      <td>7.9250</td>\n",
       "      <td>NaN</td>\n",
       "      <td>S</td>\n",
       "    </tr>\n",
       "    <tr>\n",
       "      <th>3</th>\n",
       "      <td>4</td>\n",
       "      <td>1</td>\n",
       "      <td>1</td>\n",
       "      <td>Futrelle, Mrs. Jacques Heath (Lily May Peel)</td>\n",
       "      <td>female</td>\n",
       "      <td>35.0</td>\n",
       "      <td>1</td>\n",
       "      <td>0</td>\n",
       "      <td>113803</td>\n",
       "      <td>53.1000</td>\n",
       "      <td>C123</td>\n",
       "      <td>S</td>\n",
       "    </tr>\n",
       "    <tr>\n",
       "      <th>4</th>\n",
       "      <td>5</td>\n",
       "      <td>0</td>\n",
       "      <td>3</td>\n",
       "      <td>Allen, Mr. William Henry</td>\n",
       "      <td>male</td>\n",
       "      <td>35.0</td>\n",
       "      <td>0</td>\n",
       "      <td>0</td>\n",
       "      <td>373450</td>\n",
       "      <td>8.0500</td>\n",
       "      <td>NaN</td>\n",
       "      <td>S</td>\n",
       "    </tr>\n",
       "  </tbody>\n",
       "</table>\n",
       "</div>"
      ],
      "text/plain": [
       "   PassengerId  Survived  Pclass  \\\n",
       "0            1         0       3   \n",
       "1            2         1       1   \n",
       "2            3         1       3   \n",
       "3            4         1       1   \n",
       "4            5         0       3   \n",
       "\n",
       "                                                Name     Sex   Age  SibSp  \\\n",
       "0                            Braund, Mr. Owen Harris    male  22.0      1   \n",
       "1  Cumings, Mrs. John Bradley (Florence Briggs Th...  female  38.0      1   \n",
       "2                             Heikkinen, Miss. Laina  female  26.0      0   \n",
       "3       Futrelle, Mrs. Jacques Heath (Lily May Peel)  female  35.0      1   \n",
       "4                           Allen, Mr. William Henry    male  35.0      0   \n",
       "\n",
       "   Parch            Ticket     Fare Cabin Embarked  \n",
       "0      0         A/5 21171   7.2500   NaN        S  \n",
       "1      0          PC 17599  71.2833   C85        C  \n",
       "2      0  STON/O2. 3101282   7.9250   NaN        S  \n",
       "3      0            113803  53.1000  C123        S  \n",
       "4      0            373450   8.0500   NaN        S  "
      ]
     },
     "execution_count": 4,
     "metadata": {},
     "output_type": "execute_result"
    }
   ],
   "source": [
    "# Load the training data\n",
    "train_data = pd.read_csv(\"train.csv\")\n",
    "train_data.head()\n"
   ]
  },
  {
   "cell_type": "markdown",
   "metadata": {},
   "source": [
    "Load the test data"
   ]
  },
  {
   "cell_type": "code",
   "execution_count": 6,
   "metadata": {
    "execution": {
     "iopub.execute_input": "2024-12-06T13:26:59.087081Z",
     "iopub.status.busy": "2024-12-06T13:26:59.086628Z",
     "iopub.status.idle": "2024-12-06T13:26:59.107840Z",
     "shell.execute_reply": "2024-12-06T13:26:59.106658Z",
     "shell.execute_reply.started": "2024-12-06T13:26:59.087034Z"
    },
    "trusted": true
   },
   "outputs": [
    {
     "data": {
      "text/html": [
       "<div>\n",
       "<style scoped>\n",
       "    .dataframe tbody tr th:only-of-type {\n",
       "        vertical-align: middle;\n",
       "    }\n",
       "\n",
       "    .dataframe tbody tr th {\n",
       "        vertical-align: top;\n",
       "    }\n",
       "\n",
       "    .dataframe thead th {\n",
       "        text-align: right;\n",
       "    }\n",
       "</style>\n",
       "<table border=\"1\" class=\"dataframe\">\n",
       "  <thead>\n",
       "    <tr style=\"text-align: right;\">\n",
       "      <th></th>\n",
       "      <th>PassengerId</th>\n",
       "      <th>Pclass</th>\n",
       "      <th>Name</th>\n",
       "      <th>Sex</th>\n",
       "      <th>Age</th>\n",
       "      <th>SibSp</th>\n",
       "      <th>Parch</th>\n",
       "      <th>Ticket</th>\n",
       "      <th>Fare</th>\n",
       "      <th>Cabin</th>\n",
       "      <th>Embarked</th>\n",
       "    </tr>\n",
       "  </thead>\n",
       "  <tbody>\n",
       "    <tr>\n",
       "      <th>0</th>\n",
       "      <td>892</td>\n",
       "      <td>3</td>\n",
       "      <td>Kelly, Mr. James</td>\n",
       "      <td>male</td>\n",
       "      <td>34.5</td>\n",
       "      <td>0</td>\n",
       "      <td>0</td>\n",
       "      <td>330911</td>\n",
       "      <td>7.8292</td>\n",
       "      <td>NaN</td>\n",
       "      <td>Q</td>\n",
       "    </tr>\n",
       "    <tr>\n",
       "      <th>1</th>\n",
       "      <td>893</td>\n",
       "      <td>3</td>\n",
       "      <td>Wilkes, Mrs. James (Ellen Needs)</td>\n",
       "      <td>female</td>\n",
       "      <td>47.0</td>\n",
       "      <td>1</td>\n",
       "      <td>0</td>\n",
       "      <td>363272</td>\n",
       "      <td>7.0000</td>\n",
       "      <td>NaN</td>\n",
       "      <td>S</td>\n",
       "    </tr>\n",
       "    <tr>\n",
       "      <th>2</th>\n",
       "      <td>894</td>\n",
       "      <td>2</td>\n",
       "      <td>Myles, Mr. Thomas Francis</td>\n",
       "      <td>male</td>\n",
       "      <td>62.0</td>\n",
       "      <td>0</td>\n",
       "      <td>0</td>\n",
       "      <td>240276</td>\n",
       "      <td>9.6875</td>\n",
       "      <td>NaN</td>\n",
       "      <td>Q</td>\n",
       "    </tr>\n",
       "    <tr>\n",
       "      <th>3</th>\n",
       "      <td>895</td>\n",
       "      <td>3</td>\n",
       "      <td>Wirz, Mr. Albert</td>\n",
       "      <td>male</td>\n",
       "      <td>27.0</td>\n",
       "      <td>0</td>\n",
       "      <td>0</td>\n",
       "      <td>315154</td>\n",
       "      <td>8.6625</td>\n",
       "      <td>NaN</td>\n",
       "      <td>S</td>\n",
       "    </tr>\n",
       "    <tr>\n",
       "      <th>4</th>\n",
       "      <td>896</td>\n",
       "      <td>3</td>\n",
       "      <td>Hirvonen, Mrs. Alexander (Helga E Lindqvist)</td>\n",
       "      <td>female</td>\n",
       "      <td>22.0</td>\n",
       "      <td>1</td>\n",
       "      <td>1</td>\n",
       "      <td>3101298</td>\n",
       "      <td>12.2875</td>\n",
       "      <td>NaN</td>\n",
       "      <td>S</td>\n",
       "    </tr>\n",
       "  </tbody>\n",
       "</table>\n",
       "</div>"
      ],
      "text/plain": [
       "   PassengerId  Pclass                                          Name     Sex  \\\n",
       "0          892       3                              Kelly, Mr. James    male   \n",
       "1          893       3              Wilkes, Mrs. James (Ellen Needs)  female   \n",
       "2          894       2                     Myles, Mr. Thomas Francis    male   \n",
       "3          895       3                              Wirz, Mr. Albert    male   \n",
       "4          896       3  Hirvonen, Mrs. Alexander (Helga E Lindqvist)  female   \n",
       "\n",
       "    Age  SibSp  Parch   Ticket     Fare Cabin Embarked  \n",
       "0  34.5      0      0   330911   7.8292   NaN        Q  \n",
       "1  47.0      1      0   363272   7.0000   NaN        S  \n",
       "2  62.0      0      0   240276   9.6875   NaN        Q  \n",
       "3  27.0      0      0   315154   8.6625   NaN        S  \n",
       "4  22.0      1      1  3101298  12.2875   NaN        S  "
      ]
     },
     "execution_count": 6,
     "metadata": {},
     "output_type": "execute_result"
    }
   ],
   "source": [
    "test_data = pd.read_csv(\"test.csv\")\n",
    "test_data.head()\n"
   ]
  },
  {
   "cell_type": "code",
   "execution_count": null,
   "metadata": {
    "execution": {
     "iopub.execute_input": "2024-12-06T13:26:59.109427Z",
     "iopub.status.busy": "2024-12-06T13:26:59.109095Z",
     "iopub.status.idle": "2024-12-06T13:26:59.117383Z",
     "shell.execute_reply": "2024-12-06T13:26:59.116206Z",
     "shell.execute_reply.started": "2024-12-06T13:26:59.109395Z"
    },
    "scrolled": true,
    "trusted": true
   },
   "outputs": [
    {
     "name": "stdout",
     "output_type": "stream",
     "text": [
      "Percentage of women who survived: 0.7420382165605095\n"
     ]
    }
   ],
   "source": [
    "women = train_data.loc[train_data.Sex == 'female'][\"Survived\"]\n",
    "rate_women = sum(women)/len(women)\n",
    "\n",
    "print(\"Percentage of women who survived:\", rate_women)"
   ]
  },
  {
   "cell_type": "code",
   "execution_count": null,
   "metadata": {
    "execution": {
     "iopub.execute_input": "2024-12-06T13:26:59.119274Z",
     "iopub.status.busy": "2024-12-06T13:26:59.118889Z",
     "iopub.status.idle": "2024-12-06T13:26:59.136783Z",
     "shell.execute_reply": "2024-12-06T13:26:59.135507Z",
     "shell.execute_reply.started": "2024-12-06T13:26:59.119220Z"
    },
    "trusted": true
   },
   "outputs": [
    {
     "name": "stdout",
     "output_type": "stream",
     "text": [
      "Percentage of men who survived: 0.18890814558058924\n"
     ]
    }
   ],
   "source": [
    "men = train_data.loc[train_data.Sex == 'male'][\"Survived\"]\n",
    "rate_men = sum(men)/len(men)\n",
    "\n",
    "print(\"Percentage of men who survived:\", rate_men)"
   ]
  },
  {
   "cell_type": "markdown",
   "metadata": {},
   "source": [
    "Probability of survival for children, teenagers, Women and Men"
   ]
  },
  {
   "cell_type": "code",
   "execution_count": null,
   "metadata": {
    "execution": {
     "iopub.execute_input": "2024-12-06T13:26:59.138696Z",
     "iopub.status.busy": "2024-12-06T13:26:59.138268Z",
     "iopub.status.idle": "2024-12-06T13:26:59.150466Z",
     "shell.execute_reply": "2024-12-06T13:26:59.149171Z",
     "shell.execute_reply.started": "2024-12-06T13:26:59.138662Z"
    },
    "trusted": true
   },
   "outputs": [],
   "source": [
    "# Compute survival probabilities for different demographic groups\n",
    "def compute_survival_probabilities(df):\n",
    "    children = df[df[\"Age\"] < 13]  # Age < 13 considered as children\n",
    "    teenagers = df[(df[\"Age\"] >= 13) & (df[\"Age\"] < 20)]  # Age 13-19 as teenagers\n",
    "    women = df[df[\"Sex\"] == \"female\"]  # All females\n",
    "    men = df[df[\"Sex\"] == \"male\"]  # All males\n",
    "    \n",
    "    groups = {\"Children\": children, \"Teenagers\": teenagers, \"Women\": women, \"Men\": men}\n",
    "    survival_rates = {}\n",
    "    \n",
    "    for group_name, group_data in groups.items():\n",
    "        survival_rate = group_data[\"Survived\"].mean()\n",
    "        survival_rates[group_name] = survival_rate\n",
    "    \n",
    "    return survival_rates"
   ]
  },
  {
   "cell_type": "code",
   "execution_count": null,
   "metadata": {
    "execution": {
     "iopub.execute_input": "2024-12-06T13:26:59.152091Z",
     "iopub.status.busy": "2024-12-06T13:26:59.151742Z",
     "iopub.status.idle": "2024-12-06T13:26:59.170395Z",
     "shell.execute_reply": "2024-12-06T13:26:59.168906Z",
     "shell.execute_reply.started": "2024-12-06T13:26:59.152059Z"
    },
    "trusted": true
   },
   "outputs": [
    {
     "name": "stdout",
     "output_type": "stream",
     "text": [
      "\n",
      "Survival Probabilities by Group:\n",
      "Children: 57.97%\n",
      "Teenagers: 41.05%\n",
      "Women: 74.20%\n",
      "Men: 18.89%\n"
     ]
    }
   ],
   "source": [
    "# Calculate survival probabilities by Group: Children, Teenagers, Women & Men\n",
    "survival_probs = compute_survival_probabilities(train_data)\n",
    "print(\"\\nSurvival Probabilities by Group:\")\n",
    "for group, prob in survival_probs.items():\n",
    "    print(f\"{group}: {prob:.2%}\")"
   ]
  },
  {
   "cell_type": "markdown",
   "metadata": {},
   "source": [
    "Data Preprocessing"
   ]
  },
  {
   "cell_type": "code",
   "execution_count": null,
   "metadata": {
    "execution": {
     "iopub.execute_input": "2024-12-06T13:26:59.172339Z",
     "iopub.status.busy": "2024-12-06T13:26:59.171943Z",
     "iopub.status.idle": "2024-12-06T13:26:59.190172Z",
     "shell.execute_reply": "2024-12-06T13:26:59.188799Z",
     "shell.execute_reply.started": "2024-12-06T13:26:59.172293Z"
    },
    "trusted": true
   },
   "outputs": [],
   "source": [
    "# Define function for feature engineering\n",
    "def feature_engineering(data):\n",
    "    data = data.copy()\n",
    "    data['FamilySize'] = data['SibSp'] + data['Parch'] + 1  # Including the passenger\n",
    "    data['IsAlone'] = (data['FamilySize'] == 1).astype(int)\n",
    "    data['Title'] = data['Name'].apply(lambda x: x.split(',')[1].split('.')[0].strip())\n",
    "    data['Title'] = data['Title'].replace(['Lady', 'Countess', 'Capt', 'Col', 'Don', 'Dr', 'Major', 'Rev', 'Sir', 'Jonkheer', 'Dona'], 'Rare')\n",
    "    data['Title'] = data['Title'].replace('Mlle', 'Miss')\n",
    "    data['Title'] = data['Title'].replace('Ms', 'Miss')\n",
    "    data['Title'] = data['Title'].replace('Mme', 'Mrs')\n",
    "    \n",
    "    # Convert Age and Fare into categorical bins\n",
    "    data['AgeBand'] = pd.cut(data['Age'], bins=[0, 12, 20, 40, 60, 80], labels=['Child', 'Teenager', 'Adult', 'Middle_Aged', 'Senior'])\n",
    "    data['FareBand'] = pd.qcut(data['Fare'], 4, labels=['Low', 'Medium', 'High', 'Very_High'])\n",
    "    \n",
    "    # Convert intervals to strings for encoding later\n",
    "    data['AgeBand'] = data['AgeBand'].astype(str)\n",
    "    data['FareBand'] = data['FareBand'].astype(str)\n",
    "\n",
    "    return data\n",
    "\n",
    "# Define preprocessing pipeline\n",
    "def create_preprocessing_pipeline():\n",
    "    numerical_features = ['Age', 'Fare', 'FamilySize']\n",
    "    categorical_features = ['Sex', 'Embarked', 'Title', 'AgeBand', 'FareBand']\n",
    "\n",
    "    numerical_pipeline = Pipeline([\n",
    "        ('imputer', SimpleImputer(strategy='median')),\n",
    "        ('scaler', RobustScaler())\n",
    "    ])\n",
    "\n",
    "    categorical_pipeline = Pipeline([\n",
    "        ('imputer', SimpleImputer(strategy='constant', fill_value='missing')),\n",
    "        ('onehot', OneHotEncoder(handle_unknown='ignore'))\n",
    "    ])\n",
    "\n",
    "    preprocessor = ColumnTransformer([\n",
    "        ('num', numerical_pipeline, numerical_features),\n",
    "        ('cat', categorical_pipeline, categorical_features)\n",
    "    ])\n",
    "\n",
    "    return preprocessor"
   ]
  },
  {
   "cell_type": "markdown",
   "metadata": {},
   "source": [
    "Define the Features and Model"
   ]
  },
  {
   "cell_type": "markdown",
   "metadata": {},
   "source": [
    "Random Forest Model Training"
   ]
  },
  {
   "cell_type": "code",
   "execution_count": null,
   "metadata": {
    "execution": {
     "iopub.execute_input": "2024-12-06T13:26:59.192625Z",
     "iopub.status.busy": "2024-12-06T13:26:59.192108Z",
     "iopub.status.idle": "2024-12-06T13:26:59.207062Z",
     "shell.execute_reply": "2024-12-06T13:26:59.205764Z",
     "shell.execute_reply.started": "2024-12-06T13:26:59.192572Z"
    },
    "trusted": true
   },
   "outputs": [],
   "source": [
    "# Function for ensemble model\n",
    "def create_ensemble_model():\n",
    "    base_models = [\n",
    "        ('rf', RandomForestClassifier(random_state=42)),\n",
    "        ('gb', GradientBoostingClassifier(random_state=42)),\n",
    "        ('svm', SVC(probability=True, random_state=42))\n",
    "    ]\n",
    "    \n",
    "    final_estimator = LogisticRegression(random_state=42)\n",
    "    \n",
    "    model = StackingClassifier(\n",
    "        estimators=base_models,\n",
    "        final_estimator=final_estimator,\n",
    "        cv=5,\n",
    "        stack_method='predict_proba'\n",
    "    )\n",
    "    \n",
    "    return model"
   ]
  },
  {
   "cell_type": "markdown",
   "metadata": {},
   "source": [
    "Model Training"
   ]
  },
  {
   "cell_type": "code",
   "execution_count": null,
   "metadata": {
    "execution": {
     "iopub.execute_input": "2024-12-06T13:26:59.209016Z",
     "iopub.status.busy": "2024-12-06T13:26:59.208600Z",
     "iopub.status.idle": "2024-12-06T13:28:01.143195Z",
     "shell.execute_reply": "2024-12-06T13:28:01.141923Z",
     "shell.execute_reply.started": "2024-12-06T13:26:59.208971Z"
    },
    "trusted": true
   },
   "outputs": [
    {
     "name": "stdout",
     "output_type": "stream",
     "text": [
      "Best Parameters: {'classifier__svm__C': 1, 'classifier__rf__n_estimators': 100, 'classifier__rf__max_depth': 5, 'classifier__gb__n_estimators': 50, 'classifier__gb__learning_rate': 0.5}\n",
      "Best Cross-Validation Score: 0.8417362375243236\n",
      "Confusion Matrix:\n",
      "[[524  25]\n",
      " [ 61 281]]\n",
      "Model Accuracy: 0.9035\n",
      "Classification Report:\n",
      "              precision    recall  f1-score   support\n",
      "\n",
      "           0       0.90      0.95      0.92       549\n",
      "           1       0.92      0.82      0.87       342\n",
      "\n",
      "    accuracy                           0.90       891\n",
      "   macro avg       0.91      0.89      0.90       891\n",
      "weighted avg       0.90      0.90      0.90       891\n",
      "\n",
      "Your submission was successfully saved!\n"
     ]
    }
   ],
   "source": [
    "# Required imports\n",
    "from sklearn.impute import SimpleImputer\n",
    "from sklearn.preprocessing import OneHotEncoder\n",
    "from sklearn.pipeline import Pipeline\n",
    "from sklearn.compose import ColumnTransformer\n",
    "from sklearn.ensemble import RandomForestClassifier\n",
    "from sklearn.model_selection import train_test_split, RandomizedSearchCV\n",
    "from sklearn.metrics import accuracy_score, classification_report, confusion_matrix  # Ensure this is included\n",
    "import seaborn as sns\n",
    "import matplotlib.pyplot as plt\n",
    "import pandas as pd\n",
    "import numpy as np\n",
    "from sklearn.model_selection import train_test_split, RandomizedSearchCV, StratifiedKFold\n",
    "from sklearn.model_selection import RepeatedStratifiedKFold\n",
    "\n",
    "# Main function to train the model and generate predictions\n",
    "def main():\n",
    "    train_data = pd.read_csv(\"/kaggle/input/titanic/train.csv\")\n",
    "    test_data = pd.read_csv(\"/kaggle/input/titanic/test.csv\")\n",
    "\n",
    "    train_df = feature_engineering(train_data)\n",
    "    test_df = feature_engineering(test_data)\n",
    "\n",
    "    X = train_df.drop(['Survived', 'PassengerId', 'Name', 'Ticket', 'Cabin'], axis=1)\n",
    "    y = train_df['Survived']\n",
    "\n",
    "    preprocessor = create_preprocessing_pipeline()\n",
    "    model = create_ensemble_model()\n",
    "\n",
    "    full_pipeline = Pipeline([\n",
    "        ('preprocessor', preprocessor),\n",
    "        ('classifier', model)\n",
    "    ])\n",
    "\n",
    "    # Hyperparameter tuning with RandomizedSearchCV\n",
    "    param_distributions = {\n",
    "        'classifier__rf__n_estimators': [50, 100, 150],\n",
    "        'classifier__rf__max_depth': [None, 5, 10],\n",
    "        'classifier__gb__n_estimators': [50, 100, 150],\n",
    "        'classifier__gb__learning_rate': [0.01, 0.1, 0.5],\n",
    "        'classifier__svm__C': [0.1, 1, 10]\n",
    "    }\n",
    "\n",
    "    cv = StratifiedKFold(n_splits=5, shuffle=True, random_state=42)\n",
    "\n",
    "    search = RandomizedSearchCV(full_pipeline, param_distributions, cv=cv, n_iter=10,\n",
    "                                scoring='accuracy', n_jobs=-1, random_state=42)\n",
    "    \n",
    "    search.fit(X, y)\n",
    "\n",
    "    best_model = search.best_estimator_\n",
    "    \n",
    "    print(\"Best Parameters:\", search.best_params_)\n",
    "    print(\"Best Cross-Validation Score:\", search.best_score_)\n",
    "    \n",
    "    # Train set performance\n",
    "    y_pred_train = best_model.predict(X)\n",
    "    \n",
    "    print(\"Confusion Matrix:\")\n",
    "    print(confusion_matrix(y, y_pred_train))\n",
    "    \n",
    "    print(f\"Model Accuracy: {accuracy_score(y, y_pred_train):.4f}\")\n",
    "    \n",
    "    print(\"Classification Report:\")\n",
    "    print(classification_report(y, y_pred_train))\n",
    "    \n",
    "    # Predict on test set\n",
    "    X_test = test_df.drop(['PassengerId', 'Name', 'Ticket', 'Cabin'], axis=1)\n",
    "    predictions = best_model.predict(X_test)\n",
    "\n",
    "    submission = pd.DataFrame({\n",
    "        'PassengerId': test_df['PassengerId'],\n",
    "        'Survived': predictions\n",
    "    })\n",
    "    \n",
    "    submission.to_csv('submission.csv', index=False)\n",
    "    \n",
    "    print(\"Your submission was successfully saved!\")\n",
    "\n",
    "# Run the main function\n",
    "if __name__ == \"__main__\":\n",
    "    main()"
   ]
  }
 ],
 "metadata": {
  "kaggle": {
   "accelerator": "none",
   "dataSources": [
    {
     "databundleVersionId": 26502,
     "sourceId": 3136,
     "sourceType": "competition"
    }
   ],
   "dockerImageVersionId": 30804,
   "isGpuEnabled": false,
   "isInternetEnabled": false,
   "language": "python",
   "sourceType": "notebook"
  },
  "kernelspec": {
   "display_name": "myenv",
   "language": "python",
   "name": "python3"
  },
  "language_info": {
   "codemirror_mode": {
    "name": "ipython",
    "version": 3
   },
   "file_extension": ".py",
   "mimetype": "text/x-python",
   "name": "python",
   "nbconvert_exporter": "python",
   "pygments_lexer": "ipython3",
   "version": "3.11.9"
  }
 },
 "nbformat": 4,
 "nbformat_minor": 4
}
